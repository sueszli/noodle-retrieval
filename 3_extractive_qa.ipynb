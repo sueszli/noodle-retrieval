{
 "cells": [
  {
   "cell_type": "code",
   "execution_count": 1,
   "metadata": {},
   "outputs": [
    {
     "name": "stderr",
     "output_type": "stream",
     "text": [
      "100%|██████████| 52606/52606 [02:20<00:00, 375.19it/s]"
     ]
    },
    {
     "name": "stdout",
     "output_type": "stream",
     "text": [
      "   queryid documentid relevance-grade  \\\n",
      "0   135386     100163               3   \n",
      "1   290779     101026               3   \n",
      "2    21741    1021598               3   \n",
      "3   810210    1029662               3   \n",
      "4  1097448     103635               3   \n",
      "5    36133     103776               3   \n",
      "6    85018    1042657               2   \n",
      "7   987100      10462               2   \n",
      "8   709560    1050990               3   \n",
      "9   285729    1054505               2   \n",
      "\n",
      "                                            question  \\\n",
      "0                          definition of imagination   \n",
      "1  how many oscars has clint eastwood won?pdrijgh...   \n",
      "2         are cold sores and fever blisters the same   \n",
      "3            what is the cause of blood in the stool   \n",
      "4              how many calories in slim fast shakes   \n",
      "5                             average download speed   \n",
      "6                                causes for shingles   \n",
      "7              where is magma found within our earth   \n",
      "8               what is all in basic metabolic panel   \n",
      "9                         how many hours are in fmla   \n",
      "\n",
      "                                             context  \\\n",
      "0  imagination - the formation of a mental image ...   \n",
      "1  Clint Eastwood -- five-time Oscar winner and e...   \n",
      "2  Cold sores, sometimes called fever blisters, a...   \n",
      "3  Having blood in the stool can be the result of...   \n",
      "4  The chocolate-flavored shake contains 190, whi...   \n",
      "5  So what’s the average US Internet speed? Accor...   \n",
      "6  Shingles is caused by the varicella-zoster vir...   \n",
      "7  Magma (from Ancient Greek μάγμα (mágma) meanin...   \n",
      "8  Basic Metabolic Panel. The basic metabolic pan...   \n",
      "9  FMLA Eligibility. Employees are considered to ...   \n",
      "\n",
      "                                      text-selection  \n",
      "0  the formation of a mental image of something t...  \n",
      "1                                               five  \n",
      "2        Cold sores, sometimes called fever blisters  \n",
      "3  wide variety of conditions, such as hemorrhoid...  \n",
      "4  chocolate-flavored shake contains 190\\tCafe Cl...  \n",
      "5                                           8.6 Mbps  \n",
      "6   caused by the varicella-zoster virus\\tchickenpox  \n",
      "7                   beneath the surface of the Earth  \n",
      "8  seven to eight blood tests thatmeasure certain...  \n",
      "9                                        1,250 hours  \n"
     ]
    },
    {
     "name": "stderr",
     "output_type": "stream",
     "text": [
      "\n"
     ]
    }
   ],
   "source": [
    "import pandas as pd\n",
    "from transformers import AutoTokenizer, AutoModelForQuestionAnswering\n",
    "from tqdm import tqdm # shows progress\n",
    "from pathlib import Path\n",
    "import torch\n",
    "\n",
    "\n",
    "base = Path.cwd() / \"data-merged\" / \"data\" / \"air-exercise-2\" / \"Part-3\"\n",
    "answers_path = base / \"msmarco-fira-21.qrels.qa-answers.tsv\"\n",
    "tuples_path  = base / \"msmarco-fira-21.qrels.qa-tuples.tsv\"\n",
    "retrieval_path = base / \"msmarco-fira-21.qrels.retrieval.tsv\"\n",
    "\n",
    "\"\"\"\n",
    "manual parsing because pandas.read_csv() does not work.\n",
    "content needs to be cleaned and has an inconsistent number of columns.\n",
    "\"\"\"\n",
    "\n",
    "def parse_answers(answers_path: Path) -> pd.DataFrame:\n",
    "    answers: pd.DataFrame = pd.DataFrame(columns=[\"queryid\", \"documentid\", \"relevance-grade\", \"text-selection\"])\n",
    "    answers_f = open(answers_path, \"r\")\n",
    "    for line in tqdm(answers_f.readlines()):\n",
    "        split_line = line.strip().split(\"\\t\")\n",
    "        qid = split_line[0]\n",
    "        docid = split_line[1]\n",
    "        rel_grade = split_line[2]\n",
    "        text_selection = split_line[3:]\n",
    "        answers = answers.append({\"queryid\": qid, \"documentid\": docid, \"relevance-grade\": rel_grade, \"text-selection\": text_selection}, ignore_index=True)\n",
    "    answers_f.close()\n",
    "    return answers\n",
    "\n",
    "def parse_tuples(tuples_path: Path) -> pd.DataFrame:\n",
    "    tuples: pd.DataFrame = pd.DataFrame(columns=[\"queryid\", \"documentid\", \"relevance-grade\",\"question\",\n",
    "                                                  \"context\",\"text-selection\"])\n",
    "    tuples_f = open(tuples_path, \"r\")\n",
    "    for line in tqdm(tuples_f.readlines()):\n",
    "        split_line = line.strip().split(\"\\t\")\n",
    "        qid = split_line[0]\n",
    "        docid = split_line[1]\n",
    "        rel_grade = split_line[2]\n",
    "        question = split_line[3]\n",
    "        context = split_line[4]\n",
    "        text_selection = \"\\t\".join(split_line[5:]).strip()\n",
    "        tuples = tuples.append({\"queryid\": qid, \"documentid\": docid, \"relevance-grade\": rel_grade, \"question\": question, \"context\": context,\n",
    "                                \"text-selection\": text_selection}, ignore_index=True)\n",
    "    tuples_f.close()\n",
    "    return tuples.head(10)\n",
    "\n",
    "tuples = parse_tuples(tuples_path)\n",
    "\n",
    "print(tuples)"
   ]
  },
  {
   "cell_type": "code",
   "execution_count": 2,
   "metadata": {},
   "outputs": [
    {
     "name": "stderr",
     "output_type": "stream",
     "text": [
      "Downloading: 100%|██████████| 571/571 [00:00<00:00, 170kB/s]\n",
      "Downloading: 100%|██████████| 899k/899k [00:00<00:00, 1.41MB/s]\n",
      "Downloading: 100%|██████████| 456k/456k [00:00<00:00, 1.05MB/s]\n",
      "Downloading: 100%|██████████| 772/772 [00:00<00:00, 227kB/s]\n",
      "Downloading: 100%|██████████| 79.0/79.0 [00:00<00:00, 17.2kB/s]\n",
      "Downloading: 100%|██████████| 496M/496M [00:39<00:00, 12.5MB/s] \n"
     ]
    }
   ],
   "source": [
    "model_name = 'deepset/roberta-base-squad2'\n",
    "tokenizer = AutoTokenizer.from_pretrained(model_name)\n",
    "model = AutoModelForQuestionAnswering.from_pretrained(model_name)\n"
   ]
  },
  {
   "cell_type": "code",
   "execution_count": 7,
   "metadata": {},
   "outputs": [
    {
     "ename": "",
     "evalue": "",
     "output_type": "error",
     "traceback": [
      "\u001b[1;31mThe Kernel crashed while executing code in the current cell or a previous cell. \n",
      "\u001b[1;31mPlease review the code in the cell(s) to identify a possible cause of the failure. \n",
      "\u001b[1;31mClick <a href='https://aka.ms/vscodeJupyterKernelCrash'>here</a> for more info. \n",
      "\u001b[1;31mView Jupyter <a href='command:jupyter.viewOutput'>log</a> for further details."
     ]
    }
   ],
   "source": [
    "inputs0 = tokenizer(tuples['question'][0], tuples['context'][0], return_tensors=\"pt\")\n",
    "output0 = model(**inputs0)"
   ]
  },
  {
   "cell_type": "code",
   "execution_count": 6,
   "metadata": {},
   "outputs": [
    {
     "data": {
      "text/plain": [
       "'how many oscars has clint eastwood won?pdrijgheposrgijapeoikgjpesoar'"
      ]
     },
     "execution_count": 6,
     "metadata": {},
     "output_type": "execute_result"
    }
   ],
   "source": [
    "output0"
   ]
  },
  {
   "cell_type": "code",
   "execution_count": null,
   "metadata": {},
   "outputs": [],
   "source": []
  }
 ],
 "metadata": {
  "kernelspec": {
   "display_name": "noodle-retrieval",
   "language": "python",
   "name": "python3"
  },
  "language_info": {
   "codemirror_mode": {
    "name": "ipython",
    "version": 3
   },
   "file_extension": ".py",
   "mimetype": "text/x-python",
   "name": "python",
   "nbconvert_exporter": "python",
   "pygments_lexer": "ipython3",
   "version": "3.6.12"
  }
 },
 "nbformat": 4,
 "nbformat_minor": 2
}
